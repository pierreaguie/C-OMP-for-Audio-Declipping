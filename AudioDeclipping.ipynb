{
 "cells": [
  {
   "cell_type": "markdown",
   "metadata": {},
   "source": [
    "# Constrained Orthogonal Matching Pursuit for Audio Declipping"
   ]
  },
  {
   "cell_type": "code",
   "execution_count": 147,
   "metadata": {},
   "outputs": [],
   "source": [
    "import numpy as np\n",
    "import matplotlib.pyplot as plt\n",
    "from tqdm import tqdm"
   ]
  },
  {
   "cell_type": "markdown",
   "metadata": {},
   "source": [
    "## Signal Clipping"
   ]
  },
  {
   "cell_type": "code",
   "execution_count": 148,
   "metadata": {},
   "outputs": [],
   "source": [
    "def clip(s, theta_clip):\n",
    "    return np.clip(s, -theta_clip, theta_clip)"
   ]
  },
  {
   "cell_type": "code",
   "execution_count": 149,
   "metadata": {},
   "outputs": [],
   "source": [
    "def get_theta_clip(y):\n",
    "    return np.max(np.abs(y))"
   ]
  },
  {
   "cell_type": "code",
   "execution_count": 150,
   "metadata": {},
   "outputs": [],
   "source": [
    "def get_M_r(y):\n",
    "    N = y.shape[0]\n",
    "    M_r = np.eye(N)\n",
    "    theta_clip = get_theta_clip(y)\n",
    "    I_r = np.abs(y) < theta_clip\n",
    "    M_r = M_r[I_r, :]\n",
    "    return M_r"
   ]
  },
  {
   "cell_type": "markdown",
   "metadata": {},
   "source": [
    "## Gabor Dictionary"
   ]
  },
  {
   "cell_type": "code",
   "execution_count": 151,
   "metadata": {},
   "outputs": [],
   "source": [
    "params = {\n",
    "    \"sampling_rate\": 16000,\n",
    "    \"frame_length\": 1024,\n",
    "    \"frame_overlap\": 768\n",
    "}\n",
    "\n",
    "# Number of atoms\n",
    "K_g = params[\"frame_length\"]\n",
    "# Length of the signal\n",
    "N = params[\"frame_length\"]"
   ]
  },
  {
   "cell_type": "code",
   "execution_count": 152,
   "metadata": {},
   "outputs": [],
   "source": [
    "# Create the time-frequency grid\n",
    "T = np.arange(0, N)\n",
    "J = np.arange(0, K_g)\n",
    "J, T = np.meshgrid(J, T)\n",
    "\n",
    "# Dictionaries of shape (N, K_g)\n",
    "gabor_cosine = np.cos(np.pi * (J+1/2) * (T+1/2) / K_g)\n",
    "gabor_sine = np.sin(np.pi * (J+1/2) * (T+1/2) / K_g)"
   ]
  },
  {
   "cell_type": "markdown",
   "metadata": {},
   "source": [
    "## Orthogonal Matching Pursuit"
   ]
  },
  {
   "cell_type": "code",
   "execution_count": 153,
   "metadata": {},
   "outputs": [],
   "source": [
    "def least_squares(y, D_c, D_s, theta_clip = None, theta_max = None):\n",
    "    \"\"\"\n",
    "    Solves the following least squares problem\n",
    "        min_{x_c, x_s} ||y - D_c * x_c - D_s * x_s||^2     s.t.     ...\n",
    "    \"\"\"\n",
    "    D = np.concatenate((D_c, D_s), axis=1)\n",
    "    print(D.shape, y.shape)\n",
    "    x = np.linalg.lstsq(D, y, rcond=None)[0]\n",
    "    x_c = x[:D_c.shape[1]]\n",
    "    x_s = x[D_c.shape[1]:]\n",
    "\n",
    "    ## TODO: Implement optimization in the case with linear constraints\n",
    "\n",
    "    return x_c, x_s"
   ]
  },
  {
   "cell_type": "code",
   "execution_count": null,
   "metadata": {},
   "outputs": [],
   "source": [
    "def OMP(y, M_r, K, eps, D_c = gabor_cosine, D_s = gabor_sine, theta_clip = None, theta_max = None):\n",
    "    \"\"\" \n",
    "    Runs the Orthogonal Matching Pursuit algorithm, using Gabor Dictionaries\n",
    "\n",
    "    Inputs:\n",
    "    --------\n",
    "    y: np.array\n",
    "        Input signal of size N_r\n",
    "    M_r: np.array\n",
    "        Measurement matrix of size (N_r, N)\n",
    "    D_c: np.array\n",
    "        Dictionary for the cosine atoms of size (N, K_g)\n",
    "    D_s: np.array\n",
    "        Dictionary for the sine atoms of size (N, K_g)\n",
    "    K: int\n",
    "        Maximal number of atoms to select\n",
    "    eps: float\n",
    "        Stopping criterion\n",
    "    theta_clip: float\n",
    "        (Optional) Clipping value of the signal, used as an additional constraint in the least squares problem. If None, no clipping constraint is applied.\n",
    "    theta_max: float\n",
    "        (Optional) Maximum value of the signal, used as an additional constraint in the least squares problem. If None, no maximum constraint is applied.\n",
    "\n",
    "    Outputs:\n",
    "    --------\n",
    "    x: np.array\n",
    "        Estimated sparse signal\n",
    "    residual_norms : list\n",
    "        List of the residual norms at each iteration\n",
    "    \"\"\"\n",
    "\n",
    "    N = D_c.shape[0]\n",
    "    K_g = D_c.shape[1]\n",
    "    N_r = M_r.shape[0]\n",
    "\n",
    "    y_r = M_r @ y                                                          # Of shape (N_r)\n",
    "\n",
    "    # Dictionaries\n",
    "    W_c = np.linalg.inv(np.diag(np.linalg.norm(M_r @ D_c, axis=0)))        # W_j,j = 1/||M_r * d_j||, j = 0, ..., K_g-1, of shape (K_g, K_g)\n",
    "    W_s = np.linalg.inv(np.diag(np.linalg.norm(M_r @ D_s, axis=0)))\n",
    "    d_c_norm = M_r @ D_c @ W_c                                             # Of shape (N_r, K_g)\n",
    "    d_s_norm = M_r @ D_s @ W_s\n",
    "    d_cs_dot = np.diag(np.dot(d_c_norm.T, d_s_norm), k = 0)                # Array containing <d_norm_j^c|d_norm_j^s>, j = 0, ..., K_g-1, of shape (K_g)\n",
    "\n",
    "    # Residual and support\n",
    "    r = y_r\n",
    "    Omega = []\n",
    "    residual_norms = [np.linalg.norm(y_r)]\n",
    "\n",
    "\n",
    "    for k in tqdm(range(K)):\n",
    "\n",
    "        # Atom selection\n",
    "        x_c = (np.dot(r, d_c_norm) - d_cs_dot * np.dot(r, d_s_norm)) / (1 - d_cs_dot**2)\n",
    "        x_s = (np.dot(r, d_s_norm) - d_cs_dot * np.dot(r, d_c_norm)) / (1 - d_cs_dot**2)\n",
    "        proj = np.zeros(K_g)\n",
    "        for j in range(K_g):\n",
    "            proj[j] = np.linalg.norm(r - x_c[j] * d_c_norm[:,j] - x_s[j] * d_s_norm[:,j])**2\n",
    "        i = np.argmax(np.abs(proj))\n",
    "\n",
    "        # Update support and residual\n",
    "        Omega.append(i)\n",
    "        x_c2, x_s2 = least_squares(y_r, d_c_norm[:,Omega], d_s_norm[:,Omega], theta_clip, theta_max)\n",
    "        x_c, x_s = np.zeros(K_g), np.zeros(K_g)\n",
    "        x_c[Omega] = x_c2\n",
    "        x_s[Omega] = x_s2\n",
    "\n",
    "        r = y_r - np.dot(d_c_norm[:,Omega], x_c2) - np.dot(d_s_norm[:,Omega], x_s2)\n",
    "        r_norm = np.linalg.norm(r)\n",
    "        residual_norms.append(r_norm)\n",
    "\n",
    "        # Stopping criterion\n",
    "        if r_norm < eps:\n",
    "            break\n",
    "    \n",
    "    # Output\n",
    "    x = W_c @ x_s + W_s @ x_s\n",
    "    return x, residual_norms\n",
    "\n",
    "## Je pense que ca marche pas, je debug ca demain - Pierre"
   ]
  },
  {
   "cell_type": "code",
   "execution_count": null,
   "metadata": {},
   "outputs": [],
   "source": [
    "## TODO : Function to do OMP on multiple frames, and then overlap them"
   ]
  },
  {
   "cell_type": "markdown",
   "metadata": {},
   "source": [
    "## Data"
   ]
  },
  {
   "cell_type": "markdown",
   "metadata": {},
   "source": [
    "### Dataset"
   ]
  },
  {
   "cell_type": "code",
   "execution_count": null,
   "metadata": {},
   "outputs": [],
   "source": [
    "# Synthetic data generation\n",
    "def generate_synthetic_dataset(M, N, K, theta_clip, D_c = gabor_cosine, D_s = gabor_sine):\n",
    "    \"\"\"\n",
    "    Generates M waveforms of length N. Each waveform is a sum of K Gabor atoms. Both the original signal and the signal clipped at theta_clip are returned, along with the groun-truth vector x.\n",
    "    \"\"\"\n",
    "    X = np.zeros((M, N))\n",
    "    Y = np.zeros((M, N))\n",
    "    Y_clipped = np.zeros((M, N))\n",
    "    \n",
    "    ## TODO\n",
    "\n",
    "    return X, Y, Y_clipped\n"
   ]
  },
  {
   "cell_type": "code",
   "execution_count": null,
   "metadata": {},
   "outputs": [],
   "source": [
    "## TODO: add a function to load some real data"
   ]
  },
  {
   "cell_type": "markdown",
   "metadata": {},
   "source": [
    "### Exploratory Data Analysis"
   ]
  },
  {
   "cell_type": "markdown",
   "metadata": {},
   "source": [
    "## Experiments"
   ]
  }
 ],
 "metadata": {
  "kernelspec": {
   "display_name": "Python 3",
   "language": "python",
   "name": "python3"
  },
  "language_info": {
   "codemirror_mode": {
    "name": "ipython",
    "version": 3
   },
   "file_extension": ".py",
   "mimetype": "text/x-python",
   "name": "python",
   "nbconvert_exporter": "python",
   "pygments_lexer": "ipython3",
   "version": "3.10.7"
  }
 },
 "nbformat": 4,
 "nbformat_minor": 2
}
