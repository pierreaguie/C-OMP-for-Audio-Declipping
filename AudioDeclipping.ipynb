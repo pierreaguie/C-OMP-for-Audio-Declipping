{
 "cells": [
  {
   "cell_type": "markdown",
   "metadata": {},
   "source": [
    "# Constrained Orthogonal Matching Pursuit for Audio Declipping"
   ]
  },
  {
   "cell_type": "code",
   "execution_count": 23,
   "metadata": {},
   "outputs": [],
   "source": [
    "import numpy as np\n",
    "import matplotlib.pyplot as plt\n",
    "from tqdm import tqdm\n",
    "import scipy.signal as sig\n",
    "import scipy.optimize as opt\n",
    "\n",
    "import cvxpy as cp"
   ]
  },
  {
   "cell_type": "markdown",
   "metadata": {},
   "source": [
    "## Signal Clipping"
   ]
  },
  {
   "cell_type": "code",
   "execution_count": 20,
   "metadata": {},
   "outputs": [],
   "source": [
    "def clip(s, theta_clip : float):\n",
    "    \"\"\" \n",
    "    Clips a signal s to the range [-theta_clip, theta_clip]\n",
    "    \"\"\"\n",
    "    return np.clip(s, -theta_clip, theta_clip)"
   ]
  },
  {
   "cell_type": "code",
   "execution_count": 6,
   "metadata": {},
   "outputs": [],
   "source": [
    "def get_theta_clip(y):\n",
    "    \"\"\" \n",
    "    Returns the clipping threshold for a clipped signal y\n",
    "    \"\"\"\n",
    "    return np.max(np.abs(y))"
   ]
  },
  {
   "cell_type": "code",
   "execution_count": 7,
   "metadata": {},
   "outputs": [],
   "source": [
    "def get_M_r(y, theta_clip : float = None):\n",
    "    \"\"\"\n",
    "    Returns the measurement matrix M_r for a clipped signal y\n",
    "    s.t y_r = M_r * s\n",
    "    \"\"\"\n",
    "    N = y.shape[0]\n",
    "    M_r = np.eye(N)\n",
    "    theta_clip = theta_clip if theta_clip is not None else get_theta_clip(y) \n",
    "    I_r = np.abs(y) < theta_clip           \n",
    "    M_r = M_r[I_r, :]\n",
    "    return M_r"
   ]
  },
  {
   "cell_type": "code",
   "execution_count": null,
   "metadata": {},
   "outputs": [],
   "source": [
    "def get_M_m(y, theta_clip : float = None):\n",
    "    \"\"\"\"\"\n",
    "    Returns the matrix M_m for a clipped signal y\n",
    "    s.t y_m = M_m * sign(s) * s (complement of M_r)\n",
    "    \"\"\"\"\"\n",
    "    N = y.shape[0]\n",
    "    M_m = np.eye(N)\n",
    "    theta_clip = theta_clip if theta_clip is not None else get_theta_clip(y) \n",
    "    I_m = np.abs(y) >= theta_clip\n",
    "    M_m = M_m[I_m, :]\n",
    "    return M_m"
   ]
  },
  {
   "cell_type": "code",
   "execution_count": 8,
   "metadata": {},
   "outputs": [],
   "source": [
    "def get_M_m_plus(y, theta_clip : float = None):\n",
    "    \"\"\"\n",
    "    Returns the matrix M_m_plus (which gives the indices at which the signal is clipped from above) for a clipped signal y\n",
    "    \"\"\"\n",
    "    N = y.shape[0]\n",
    "    M_m_plus = np.eye(N)\n",
    "    theta_clip = theta_clip if theta_clip is not None else get_theta_clip(y) \n",
    "    I_m_plus = y >= theta_clip           \n",
    "    M_m_plus = M_m_plus[I_m_plus, :]\n",
    "    return M_m_plus"
   ]
  },
  {
   "cell_type": "code",
   "execution_count": 9,
   "metadata": {},
   "outputs": [],
   "source": [
    "def get_M_m_minus(y, theta_clip : float = None):\n",
    "    \"\"\"\n",
    "    Returns the matrix M_m_minus (which gives the indices at which the signal is clipped from below) for a clipped signal y\n",
    "    \"\"\"\n",
    "    N = y.shape[0]\n",
    "    M_m_minus = np.eye(N)\n",
    "    theta_clip = theta_clip if theta_clip is not None else get_theta_clip(y) \n",
    "    I_m_minus = y <= -theta_clip           \n",
    "    M_m_minus = M_m_minus[I_m_minus, :]\n",
    "    return M_m_minus"
   ]
  },
  {
   "cell_type": "markdown",
   "metadata": {},
   "source": [
    "## Gabor Dictionary"
   ]
  },
  {
   "cell_type": "code",
   "execution_count": 10,
   "metadata": {},
   "outputs": [],
   "source": [
    "params = {\n",
    "    \"sampling_rate\": 16000,\n",
    "    \"frame_length\": 1024,\n",
    "    \"frame_overlap\": 768\n",
    "}\n",
    "\n",
    "# Number of atoms per dictionary\n",
    "K_g = params[\"frame_length\"]//2\n",
    "# Length of the signal\n",
    "N = params[\"frame_length\"]"
   ]
  },
  {
   "cell_type": "code",
   "execution_count": 11,
   "metadata": {},
   "outputs": [],
   "source": [
    "def get_gabor_dictionaries(N : int, K_g : int, weight_window):\n",
    "    # Create the time-frequency grid\n",
    "    T = np.arange(0, N)\n",
    "    J = np.arange(0, K_g)\n",
    "    J, T = np.meshgrid(J, T)\n",
    "    vectorized_weight_window = np.vectorize(weight_window)\n",
    "\n",
    "    # Dictionaries of shape (N, K_g), 2* K_g atoms in total\n",
    "    gabor_cosine = vectorized_weight_window(T) * np.cos(np.pi * (J+1/2) * (T+1/2) / K_g)\n",
    "    gabor_sine = vectorized_weight_window(T) * np.sin(np.pi * (J+1/2) * (T+1/2) / K_g)\n",
    "\n",
    "    return gabor_cosine, gabor_sine"
   ]
  },
  {
   "cell_type": "code",
   "execution_count": 13,
   "metadata": {},
   "outputs": [],
   "source": [
    "gabor_cosine, gabor_sine = get_gabor_dictionaries(N, K_g)"
   ]
  },
  {
   "cell_type": "code",
   "execution_count": 14,
   "metadata": {},
   "outputs": [
    {
     "data": {
      "text/plain": [
       "((1024, 512), (1024, 512))"
      ]
     },
     "execution_count": 14,
     "metadata": {},
     "output_type": "execute_result"
    }
   ],
   "source": [
    "gabor_cosine.shape, gabor_sine.shape"
   ]
  },
  {
   "cell_type": "markdown",
   "metadata": {},
   "source": [
    "## Orthogonal Matching Pursuit"
   ]
  },
  {
   "cell_type": "code",
   "execution_count": 15,
   "metadata": {},
   "outputs": [],
   "source": [
    "def least_squares(y : np.ndarray, M_r : np.ndarray, Omega : list, D_c : np.ndarray, D_s : np.ndarray, W_c : np.ndarray, W_s : np.ndarray,\n",
    "                  theta_clip : float = None, theta_max : float = None, M_m_plus : np.ndarray = None, M_m_minus : np.ndarray = None, lambda_reg : float = 0):\n",
    "    \"\"\"\n",
    "    Solves the following least squares problem\n",
    "        min_{x_c, x_s} ||y - D_c * x_c - D_s * x_s||^2 + lambda * ||x_c||^2 + lambda * ||x_s||^2     s.t.     ...\n",
    "\n",
    "    Inputs:\n",
    "    -------\n",
    "    y : np.ndarray\n",
    "        The signal to be reconstructed\n",
    "    M_r : np.ndarray\n",
    "        The measurement matrix\n",
    "    Omega : list\n",
    "        The indices of the measurements\n",
    "    D_c : np.ndarray\n",
    "        The dictionary of cosine atoms\n",
    "    D_s : np.ndarray\n",
    "        The dictionary of sine atoms\n",
    "    W_c : np.ndarray\n",
    "        The window function for the cosine atoms\n",
    "    W_s : np.ndarray\n",
    "        The window function for the sine atoms\n",
    "    theta_clip : float\n",
    "        The clipping threshold\n",
    "    theta_max : float\n",
    "        The maximum amplitude of the signal\n",
    "    M_m_plus : np.ndarray\n",
    "        The matrix M_m_plus\n",
    "    M_m_minus : np.ndarray\n",
    "        The matrix M_m_minus\n",
    "    lambda_reg : float\n",
    "        The regularization parameter\n",
    "\n",
    "    Outputs:\n",
    "    --------\n",
    "    x_c : np.ndarray\n",
    "        The coefficients of the cosine atoms\n",
    "    x_s : np.ndarray\n",
    "        The coefficients of the sine atoms\n",
    "    \"\"\"\n",
    "    y_r = M_r @ y\n",
    "    D = np.concatenate(((D_c @ W_c)[:,Omega], (D_s @ W_s)[:,Omega]), axis=1)\n",
    "    D_r = M_r @ D\n",
    "\n",
    "    if theta_clip is not None or theta_max is not None:\n",
    "        ## Partie OLS avec contrainte: bcp de bugs encore, marche pas tres bien\n",
    "\n",
    "        if M_m_plus is None:\n",
    "            M_m_plus = get_M_m_plus(y, theta_clip)\n",
    "        if M_m_minus is None:\n",
    "            M_m_minus = get_M_m_minus(y, theta_clip)\n",
    "\n",
    "        x = cp.Variable(D_r.shape[1])\n",
    "        obj = cp.Minimize(cp.sum_squares(y_r - D_r @ x))\n",
    "        \n",
    "        constraints = [M_m_plus @ D @ x >= theta_clip, M_m_minus @ D @ x <= - theta_clip] if theta_clip is not None else []      # Min constraints\n",
    "        constraints += [M_m_plus @ D @ x <= theta_max, M_m_minus @ D @ x >= - theta_max] if theta_max is not None else []        # Max constraints\n",
    "\n",
    "        prob = cp.Problem(obj, constraints)\n",
    "        prob.solve()\n",
    "        if prob.status == 'infeasible':\n",
    "            print(\"Infeasible problem\")\n",
    "            x = np.linalg.lstsq(D, y, rcond=None)[0]\n",
    "        else:\n",
    "            x = x.value\n",
    "\n",
    "    else:\n",
    "        x = np.linalg.lstsq(D, y, rcond=None)[0]\n",
    "\n",
    "    x_c = x[:D_c[:,Omega].shape[1]]\n",
    "    x_s = x[D_c[:,Omega].shape[1]:]\n",
    "    return x_c, x_s"
   ]
  },
  {
   "cell_type": "code",
   "execution_count": 17,
   "metadata": {},
   "outputs": [],
   "source": [
    "def OMP(y : np.ndarray, K : int, eps : float, \n",
    "        D_c : np.ndarray = gabor_cosine, D_s : np.ndarray = gabor_sine, theta_clip : float = None, theta_max : float = None, verbose : bool = True):\n",
    "    \"\"\" \n",
    "    Runs the Orthogonal Matching Pursuit algorithm, using Gabor Dictionaries.\n",
    "\n",
    "    Inputs:\n",
    "    --------\n",
    "    y: np.array\n",
    "        Input signal of size N\n",
    "    K: int\n",
    "        Maximal number of atoms to select\n",
    "    eps: float\n",
    "        Stopping criterion\n",
    "    D_c: np.array\n",
    "        Dictionary for the cosine atoms of size (N, K_g)\n",
    "    D_s: np.array\n",
    "        Dictionary for the sine atoms of size (N, K_g)\n",
    "    theta_clip: float\n",
    "        Clipping value of the signal, used as an additional constraint in the least squares problem. If None, no clipping constraint is applied.\n",
    "    theta_max: float\n",
    "        Maximum value of the signal, used as an additional constraint in the least squares problem. If None, no maximum constraint is applied.\n",
    "    verbose: bool\n",
    "        If True, prints the residual norm at each iteration\n",
    "\n",
    "    Outputs:\n",
    "    --------\n",
    "    y_reconstructed: np.array\n",
    "        Reconstruction of the original signal y\n",
    "    x_c: np.array\n",
    "        Sparse activations of the cosine atoms \n",
    "    x_s: np.array\n",
    "        Sparse activations of the sine atoms\n",
    "    residual_norms : list\n",
    "        List of the squared norms of the residuals at each iteration\n",
    "    \"\"\"\n",
    "\n",
    "    K_g = D_c.shape[1]\n",
    "\n",
    "    # Partition the samples of the signal\n",
    "    M_r = get_M_r(y, theta_clip)                                           # Of shape (N_r, N)\n",
    "    M_m_plus = get_M_m_plus(y, theta_clip) if theta_clip is not None else None\n",
    "    M_m_minus = get_M_m_minus(y, theta_clip) if theta_clip is not None else None\n",
    "\n",
    "    # Reliable samples of the signal\n",
    "    y_r = M_r @ y                                                          # Of shape (N_r)\n",
    "\n",
    "    # Dictionaries\n",
    "    W_c = np.diag(1 / np.linalg.norm(M_r @ D_c, axis=0))                   # W_j,j = 1/||M_r * d_j||, j = 0, ..., K_g-1, of shape (K_g, K_g)\n",
    "    W_s = np.diag(1 / np.linalg.norm(M_r @ D_s, axis=0))\n",
    "    d_c_norm = M_r @ D_c @ W_c                                             # Of shape (N_r, K_g)\n",
    "    d_s_norm = M_r @ D_s @ W_s\n",
    "\n",
    "    # Array containing <d_norm_j^c|d_norm_j^s>, j = 0, ..., K_g-1, of shape (K_g)\n",
    "    d_cs_dot = np.zeros(K_g)\n",
    "    for j in range(K_g):\n",
    "        d_cs_dot[j] = np.dot(d_c_norm[:,j], d_s_norm[:,j])\n",
    "\n",
    "    # Residual and support\n",
    "    r = y_r\n",
    "    Omega = []\n",
    "    residual_norms = [np.linalg.norm(y_r)**2]\n",
    "\n",
    "\n",
    "    for k in range(K):\n",
    "\n",
    "        # Atom selection\n",
    "        x_c = (np.dot(r, d_c_norm) - d_cs_dot * np.dot(r, d_s_norm)) / (1 - d_cs_dot**2)\n",
    "        x_s = (np.dot(r, d_s_norm) - d_cs_dot * np.dot(r, d_c_norm)) / (1 - d_cs_dot**2)\n",
    "        proj = np.zeros(K_g)\n",
    "        for j in range(K_g):\n",
    "            if j not in Omega:\n",
    "                proj[j] = np.linalg.norm(r - x_c[j] * d_c_norm[:,j] - x_s[j] * d_s_norm[:,j])**2\n",
    "            else:\n",
    "                proj[j] = np.inf          # Do not choose j if it is already in Omega\n",
    "        i = np.argmin(np.abs(proj))\n",
    "\n",
    "        # Update support and residual\n",
    "        Omega.append(i)\n",
    "        x_c2, x_s2 = least_squares(y, M_r = M_r, Omega = Omega, D_c = D_c, D_s = D_s, W_c = W_c, W_s = W_s, theta_clip = theta_clip, theta_max = theta_max, M_m_plus = M_m_plus, M_m_minus = M_m_minus)\n",
    "        x_c, x_s = np.zeros(K_g), np.zeros(K_g)\n",
    "        x_c[Omega] = x_c2\n",
    "        x_s[Omega] = x_s2\n",
    "\n",
    "        r = y_r - np.dot(d_c_norm[:,Omega], x_c2) - np.dot(d_s_norm[:,Omega], x_s2)\n",
    "        r_norm = np.linalg.norm(r)**2\n",
    "        residual_norms.append(r_norm)\n",
    "\n",
    "        if verbose:\n",
    "            print(f\"Iteration {k}: residual norm {r_norm:.5f}.\")\n",
    "\n",
    "        # Stopping criterion\n",
    "        if r_norm < eps:\n",
    "            if verbose:\n",
    "                print(f\"Stopping criterion reached before selecting {K} atoms\")\n",
    "            break\n",
    "    \n",
    "    # Output\n",
    "    x_c = W_c @ x_c\n",
    "    x_s = W_s @ x_s\n",
    "    y_reconstructed = D_c @ x_c + D_s @ x_s\n",
    "    return y_reconstructed, x_c, x_s, residual_norms"
   ]
  },
  {
   "cell_type": "code",
   "execution_count": 24,
   "metadata": {},
   "outputs": [],
   "source": [
    "def inpainting(y, frame_length : int = 1024, frame_overlap : int = 768, K : int = 50, eps : float = 1e-6, D_c = gabor_cosine, D_s = gabor_sine, theta_clip = None, theta_max = None):\n",
    "    \"\"\"\n",
    "    Segments a signal y into overlapping frames of length frame_length and overlap frame_overlap\n",
    "    Then runs OMP on each frame to inpaint the missing samples\n",
    "    Then reconstructs the signal using OLA\n",
    "\n",
    "    Inputs:\n",
    "    -------\n",
    "    y: np.array\n",
    "        Input signal of size N\n",
    "    frame_length: int  \n",
    "        Length of the frames   \n",
    "    frame_overlap: int\n",
    "        Overlap between the frames\n",
    "    K: int\n",
    "        Maximal number of atoms to select\n",
    "    eps: float\n",
    "        Stopping criterion\n",
    "    D_c: np.array\n",
    "        Dictionary for the cosine atoms of size (N, K_g)\n",
    "    D_s: np.array\n",
    "        Dictionary for the sine atoms of size (N, K_g)\n",
    "    theta_clip: float\n",
    "        Clipping value of the signal, used as an additional constraint in the least squares problem. If None, no clipping constraint is applied.\n",
    "    theta_max: float\n",
    "        Maximum value of the signal, used as an additional constraint in the least squares problem. If None, no maximum constraint is applied.\n",
    "    \n",
    "    Remark : Ensure a 75% overlap between the frames and 1024 points per frame\n",
    "\n",
    "    \n",
    "    Outputs:\n",
    "    --------\n",
    "    y_reconstructed: np.array\n",
    "        Reconstruction of the original signal y using the sparse activations of the atoms\n",
    "    \"\"\"\n",
    "\n",
    "    N = len(y)\n",
    "    w_a = sig.boxcar(frame_length) #analysis window\n",
    "    w_s = np.sin(np.pi * np.arange(frame_length) / (frame_length - 1)) #synthesis window\n",
    "    t_i_s = np.arange(0, N, frame_length - frame_overlap) #frames starting dates\n",
    "\n",
    "    y_reconstructed = np.zeros(N)\n",
    "\n",
    "    for i in t_i_s:\n",
    "        y_i = w_a * y[i:i+frame_length]\n",
    "        y_i_reconstructed, x_c_i, x_s_i, _ = OMP(y_i, K, eps, D_c, D_s, theta_clip = theta_clip, theta_max = theta_max, verbose = False)\n",
    "        y_reconstructed[i:i+frame_length] += w_s * y_i_reconstructed\n",
    "\n",
    "    return y_reconstructed"
   ]
  },
  {
   "cell_type": "markdown",
   "metadata": {},
   "source": [
    "## Data"
   ]
  },
  {
   "cell_type": "markdown",
   "metadata": {},
   "source": [
    "### Dataset"
   ]
  },
  {
   "cell_type": "code",
   "execution_count": 233,
   "metadata": {},
   "outputs": [],
   "source": [
    "# Synthetic data generation\n",
    "# TODO: Modifier la maniere dont choisir les coefficients\n",
    "def generate_synthetic_dataset(M, N, K, theta_clip : float = .8, D_c = gabor_cosine, D_s = gabor_sine, sigma : float = 0.1):\n",
    "    \"\"\"\n",
    "    Generates M waveforms of length N. Each waveform is a sum of K Gabor atoms and some noise. Both the original signal and the signal clipped at theta_clip are returned, along with the grounD-truth vector x.\n",
    "    \"\"\"\n",
    "    K_g = D_c.shape[1]\n",
    "\n",
    "    X = np.zeros((M, 2*K_g))\n",
    "    Y = np.zeros((M, N))\n",
    "    Y_clipped = np.zeros((M, N))\n",
    "\n",
    "    for i in range(M):\n",
    "        y = np.zeros(N)\n",
    "        for k in range(K):\n",
    "            j = np.random.randint(0, K_g//4)\n",
    "            a = .2 * np.random.randn()\n",
    "            b = .2 * np.random.randn()\n",
    "            y += a * D_c[:,j] + b * D_s[:,j]\n",
    "            X[i, j] += a\n",
    "            X[i, K_g+j] += b\n",
    "        Y[i] = y + sigma * np.random.randn(N)\n",
    "        Y_clipped[i] = clip(Y[i], theta_clip)\n",
    "    \n",
    "    return X, Y, Y_clipped\n"
   ]
  },
  {
   "cell_type": "code",
   "execution_count": 221,
   "metadata": {},
   "outputs": [],
   "source": [
    "## TODO: find some real data, and add a function to load some real data"
   ]
  },
  {
   "cell_type": "markdown",
   "metadata": {},
   "source": [
    "### Exploratory Data Analysis"
   ]
  },
  {
   "cell_type": "markdown",
   "metadata": {},
   "source": [
    "## Experiments"
   ]
  },
  {
   "cell_type": "code",
   "execution_count": 222,
   "metadata": {},
   "outputs": [],
   "source": [
    "# Idees\n",
    "## SNR_m vs theta_clip\n",
    "## Impact of lambda_reg ?\n",
    "## "
   ]
  },
  {
   "cell_type": "code",
   "execution_count": 242,
   "metadata": {},
   "outputs": [],
   "source": [
    "x, y, y_trimmed = generate_synthetic_dataset(1, N, 10, theta_clip = .9, sigma = 0.1)"
   ]
  },
  {
   "cell_type": "code",
   "execution_count": 243,
   "metadata": {},
   "outputs": [
    {
     "data": {
      "text/plain": [
       "[<matplotlib.lines.Line2D at 0x15c87f6a0>]"
      ]
     },
     "execution_count": 243,
     "metadata": {},
     "output_type": "execute_result"
    },
    {
     "data": {
      "image/png": "[encoded data removed]",
      "text/plain": [
       "<Figure size 640x480 with 1 Axes>"
      ]
     },
     "metadata": {},
     "output_type": "display_data"
    }
   ],
   "source": [
    "plt.plot(y[0][:100])\n",
    "plt.plot(y_trimmed[0][:100])"
   ]
  },
  {
   "cell_type": "code",
   "execution_count": 244,
   "metadata": {},
   "outputs": [
    {
     "name": "stdout",
     "output_type": "stream",
     "text": [
      "Iteration 0: residual norm 133.18319.\n",
      "Iteration 1: residual norm 108.35899.\n",
      "Iteration 2: residual norm 88.27465.\n",
      "Iteration 3: residual norm 65.92187.\n",
      "Iteration 4: residual norm 46.89387.\n",
      "Iteration 5: residual norm 34.21692.\n",
      "Iteration 6: residual norm 24.13178.\n",
      "Iteration 7: residual norm 14.17730.\n",
      "Iteration 8: residual norm 10.34773.\n",
      "Iteration 9: residual norm 10.21284.\n",
      "Iteration 10: residual norm 10.06060.\n",
      "Iteration 11: residual norm 9.92448.\n",
      "Iteration 12: residual norm 9.77800.\n",
      "Iteration 13: residual norm 9.65326.\n",
      "Iteration 14: residual norm 9.53860.\n",
      "Iteration 15: residual norm 9.42979.\n",
      "Iteration 16: residual norm 9.33464.\n",
      "Iteration 17: residual norm 9.24086.\n",
      "Iteration 18: residual norm 9.13299.\n",
      "Iteration 19: residual norm 9.04275.\n",
      "Iteration 20: residual norm 8.95204.\n",
      "Iteration 21: residual norm 8.87256.\n",
      "Iteration 22: residual norm 8.79178.\n",
      "Iteration 23: residual norm 8.71309.\n",
      "Iteration 24: residual norm 8.64301.\n",
      "Iteration 25: residual norm 8.56978.\n",
      "Iteration 26: residual norm 8.50562.\n",
      "Iteration 27: residual norm 8.43203.\n",
      "Iteration 28: residual norm 8.36593.\n",
      "Iteration 29: residual norm 8.30072.\n",
      "Iteration 30: residual norm 8.24238.\n",
      "Iteration 31: residual norm 8.18046.\n",
      "Iteration 32: residual norm 8.11449.\n",
      "Iteration 33: residual norm 8.05148.\n",
      "Iteration 34: residual norm 7.98384.\n",
      "Iteration 35: residual norm 7.92448.\n",
      "Iteration 36: residual norm 7.88486.\n",
      "Iteration 37: residual norm 7.83870.\n",
      "Iteration 38: residual norm 7.79955.\n",
      "Iteration 39: residual norm 7.74103.\n",
      "Iteration 40: residual norm 7.68245.\n",
      "Iteration 41: residual norm 7.63211.\n",
      "Iteration 42: residual norm 7.61280.\n",
      "Iteration 43: residual norm 7.54672.\n",
      "Iteration 44: residual norm 7.48626.\n",
      "Iteration 45: residual norm 7.42550.\n",
      "Iteration 46: residual norm 7.37503.\n",
      "Iteration 47: residual norm 7.31887.\n",
      "Iteration 48: residual norm 7.26394.\n",
      "Iteration 49: residual norm 7.20415.\n",
      "Iteration 50: residual norm 7.14380.\n",
      "Iteration 51: residual norm 7.08894.\n",
      "Iteration 52: residual norm 7.03243.\n",
      "Iteration 53: residual norm 6.97320.\n",
      "Iteration 54: residual norm 6.91535.\n",
      "Iteration 55: residual norm 6.86314.\n",
      "Iteration 56: residual norm 6.82930.\n",
      "Iteration 57: residual norm 6.77802.\n",
      "Iteration 58: residual norm 6.72570.\n",
      "Iteration 59: residual norm 6.69249.\n",
      "Iteration 60: residual norm 6.64175.\n",
      "Iteration 61: residual norm 6.59214.\n",
      "Iteration 62: residual norm 6.54314.\n",
      "Iteration 63: residual norm 6.49425.\n",
      "Iteration 64: residual norm 6.44505.\n",
      "Iteration 65: residual norm 6.39829.\n",
      "Iteration 66: residual norm 6.35174.\n",
      "Iteration 67: residual norm 6.30620.\n",
      "Iteration 68: residual norm 6.26404.\n",
      "Iteration 69: residual norm 6.22296.\n",
      "Iteration 70: residual norm 6.17987.\n",
      "Iteration 71: residual norm 6.14577.\n",
      "Iteration 72: residual norm 6.10332.\n",
      "Iteration 73: residual norm 6.06266.\n",
      "Iteration 74: residual norm 6.01926.\n",
      "Iteration 75: residual norm 5.97433.\n",
      "Iteration 76: residual norm 5.94083.\n",
      "Iteration 77: residual norm 5.90523.\n",
      "Iteration 78: residual norm 5.86835.\n",
      "Iteration 79: residual norm 5.82780.\n",
      "Iteration 80: residual norm 5.78696.\n",
      "Iteration 81: residual norm 5.74764.\n",
      "Iteration 82: residual norm 5.70760.\n",
      "Iteration 83: residual norm 5.67042.\n",
      "Iteration 84: residual norm 5.64297.\n",
      "Iteration 85: residual norm 5.61448.\n",
      "Iteration 86: residual norm 5.57693.\n",
      "Iteration 87: residual norm 5.54006.\n",
      "Iteration 88: residual norm 5.51213.\n",
      "Iteration 89: residual norm 5.47289.\n",
      "Iteration 90: residual norm 5.43343.\n",
      "Iteration 91: residual norm 5.39401.\n",
      "Iteration 92: residual norm 5.35525.\n",
      "Iteration 93: residual norm 5.31969.\n",
      "Iteration 94: residual norm 5.28313.\n",
      "Iteration 95: residual norm 5.24626.\n",
      "Iteration 96: residual norm 5.21026.\n",
      "Iteration 97: residual norm 5.17678.\n",
      "Iteration 98: residual norm 5.14002.\n",
      "Iteration 99: residual norm 5.10211.\n",
      "Iteration 100: residual norm 5.07290.\n",
      "Iteration 101: residual norm 5.04553.\n",
      "Iteration 102: residual norm 5.03096.\n",
      "Iteration 103: residual norm 4.99654.\n",
      "Iteration 104: residual norm 4.96406.\n",
      "Iteration 105: residual norm 4.92681.\n",
      "Iteration 106: residual norm 4.89036.\n",
      "Iteration 107: residual norm 4.85513.\n",
      "Iteration 108: residual norm 4.82218.\n",
      "Iteration 109: residual norm 4.78689.\n",
      "Iteration 110: residual norm 4.75441.\n",
      "Iteration 111: residual norm 4.72009.\n",
      "Iteration 112: residual norm 4.68793.\n",
      "Iteration 113: residual norm 4.65800.\n",
      "Iteration 114: residual norm 4.62457.\n",
      "Iteration 115: residual norm 4.59095.\n",
      "Iteration 116: residual norm 4.56223.\n",
      "Iteration 117: residual norm 4.53037.\n",
      "Iteration 118: residual norm 4.49598.\n",
      "Iteration 119: residual norm 4.46223.\n",
      "Iteration 120: residual norm 4.42829.\n",
      "Iteration 121: residual norm 4.39527.\n",
      "Iteration 122: residual norm 4.36388.\n",
      "Iteration 123: residual norm 4.33696.\n",
      "Iteration 124: residual norm 4.30439.\n",
      "Iteration 125: residual norm 4.27346.\n",
      "Iteration 126: residual norm 4.24168.\n",
      "Iteration 127: residual norm 4.21674.\n",
      "Iteration 128: residual norm 4.18429.\n",
      "Iteration 129: residual norm 4.15234.\n",
      "Iteration 130: residual norm 4.12262.\n",
      "Iteration 131: residual norm 4.09271.\n",
      "Iteration 132: residual norm 4.06220.\n",
      "Iteration 133: residual norm 4.03575.\n",
      "Iteration 134: residual norm 4.00614.\n",
      "Iteration 135: residual norm 3.97713.\n",
      "Iteration 136: residual norm 3.95172.\n",
      "Iteration 137: residual norm 3.94196.\n",
      "Iteration 138: residual norm 3.91188.\n",
      "Iteration 139: residual norm 3.88875.\n",
      "Iteration 140: residual norm 3.86346.\n",
      "Iteration 141: residual norm 3.84755.\n",
      "Iteration 142: residual norm 3.81835.\n",
      "Iteration 143: residual norm 3.79089.\n",
      "Iteration 144: residual norm 3.76298.\n",
      "Iteration 145: residual norm 3.73877.\n",
      "Iteration 146: residual norm 3.71061.\n",
      "Iteration 147: residual norm 3.68452.\n",
      "Iteration 148: residual norm 3.65660.\n",
      "Iteration 149: residual norm 3.62409.\n",
      "Iteration 150: residual norm 3.59687.\n",
      "Iteration 151: residual norm 3.56661.\n",
      "Iteration 152: residual norm 3.54493.\n",
      "Iteration 153: residual norm 3.52060.\n",
      "Iteration 154: residual norm 3.49652.\n",
      "Iteration 155: residual norm 3.47085.\n",
      "Iteration 156: residual norm 3.44814.\n",
      "Iteration 157: residual norm 3.42382.\n",
      "Iteration 158: residual norm 3.39856.\n",
      "Iteration 159: residual norm 3.37649.\n",
      "Iteration 160: residual norm 3.35350.\n",
      "Iteration 161: residual norm 3.33023.\n",
      "Iteration 162: residual norm 3.30909.\n",
      "Iteration 163: residual norm 3.28700.\n",
      "Iteration 164: residual norm 3.26388.\n",
      "Iteration 165: residual norm 3.24123.\n",
      "Iteration 166: residual norm 3.22011.\n",
      "Iteration 167: residual norm 3.19721.\n",
      "Iteration 168: residual norm 3.17453.\n",
      "Iteration 169: residual norm 3.15273.\n",
      "Iteration 170: residual norm 3.12996.\n",
      "Iteration 171: residual norm 3.10727.\n",
      "Iteration 172: residual norm 3.08668.\n",
      "Iteration 173: residual norm 3.06331.\n",
      "Iteration 174: residual norm 3.04058.\n",
      "Iteration 175: residual norm 3.01747.\n",
      "Iteration 176: residual norm 2.99185.\n",
      "Iteration 177: residual norm 2.97145.\n",
      "Iteration 178: residual norm 2.94884.\n",
      "Iteration 179: residual norm 2.92986.\n",
      "Iteration 180: residual norm 2.90655.\n",
      "Iteration 181: residual norm 2.88552.\n",
      "Iteration 182: residual norm 2.86592.\n",
      "Iteration 183: residual norm 2.84365.\n",
      "Iteration 184: residual norm 2.83104.\n",
      "Iteration 185: residual norm 2.81002.\n",
      "Iteration 186: residual norm 2.78725.\n",
      "Iteration 187: residual norm 2.76484.\n",
      "Iteration 188: residual norm 2.74330.\n",
      "Iteration 189: residual norm 2.72479.\n",
      "Iteration 190: residual norm 2.70214.\n",
      "Iteration 191: residual norm 2.67958.\n",
      "Iteration 192: residual norm 2.65731.\n",
      "Iteration 193: residual norm 2.63836.\n",
      "Iteration 194: residual norm 2.61678.\n",
      "Iteration 195: residual norm 2.59563.\n",
      "Iteration 196: residual norm 2.57721.\n",
      "Iteration 197: residual norm 2.55521.\n",
      "Iteration 198: residual norm 2.53794.\n",
      "Iteration 199: residual norm 2.52285.\n"
     ]
    }
   ],
   "source": [
    "y_reconstructed = OMP(y_trimmed[0], K = 200, eps = 1e-6, theta_clip = None, theta_max= None)[0]"
   ]
  },
  {
   "cell_type": "code",
   "execution_count": 245,
   "metadata": {},
   "outputs": [
    {
     "data": {
      "text/plain": [
       "[<matplotlib.lines.Line2D at 0x15c8f6380>]"
      ]
     },
     "execution_count": 245,
     "metadata": {},
     "output_type": "execute_result"
    },
    {
     "data": {
      "image/png": "[encoded data removed]",
      "text/plain": [
       "<Figure size 640x480 with 1 Axes>"
      ]
     },
     "metadata": {},
     "output_type": "display_data"
    }
   ],
   "source": [
    "plt.plot(y[0][:100])\n",
    "plt.plot(y_trimmed[0][:100])\n",
    "plt.plot(y_reconstructed[:100])"
   ]
  },
  {
   "cell_type": "code",
   "execution_count": null,
   "metadata": {},
   "outputs": [],
   "source": []
  },
  {
   "cell_type": "code",
   "execution_count": null,
   "metadata": {},
   "outputs": [],
   "source": []
  }
 ],
 "metadata": {
  "kernelspec": {
   "display_name": "Python 3",
   "language": "python",
   "name": "python3"
  },
  "language_info": {
   "codemirror_mode": {
    "name": "ipython",
    "version": 3
   },
   "file_extension": ".py",
   "mimetype": "text/x-python",
   "name": "python",
   "nbconvert_exporter": "python",
   "pygments_lexer": "ipython3",
   "version": "3.10.12"
  }
 },
 "nbformat": 4,
 "nbformat_minor": 2
}
