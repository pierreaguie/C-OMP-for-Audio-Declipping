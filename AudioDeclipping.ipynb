{
 "cells": [
  {
   "cell_type": "markdown",
   "metadata": {},
   "source": [
    "# Constrained Orthogonal Matching Pursuit for Audio Declipping"
   ]
  },
  {
   "cell_type": "code",
   "execution_count": 11,
   "metadata": {},
   "outputs": [],
   "source": [
    "import numpy as np\n",
    "import matplotlib.pyplot as plt"
   ]
  },
  {
   "cell_type": "markdown",
   "metadata": {},
   "source": [
    "## Signal Clipping"
   ]
  },
  {
   "cell_type": "code",
   "execution_count": 33,
   "metadata": {},
   "outputs": [],
   "source": [
    "def clip(y, theta_clip):\n",
    "    return np.clip(y, -theta_clip, theta_clip)"
   ]
  },
  {
   "cell_type": "code",
   "execution_count": 34,
   "metadata": {},
   "outputs": [],
   "source": [
    "def get_theta_clip(y):\n",
    "    return np.max(np.abs(y))"
   ]
  },
  {
   "cell_type": "markdown",
   "metadata": {},
   "source": [
    "## Gabor Dictionary"
   ]
  },
  {
   "cell_type": "code",
   "execution_count": 30,
   "metadata": {},
   "outputs": [],
   "source": [
    "params = {\n",
    "    \"sampling_rate\": 16000,\n",
    "    \"frame_length\": 1024,\n",
    "    \"frame_overlap\": 768\n",
    "}\n",
    "\n",
    "# Number of atoms\n",
    "K_g = params[\"frame_length\"]\n",
    "# Length of the signal\n",
    "N = params[\"frame_length\"]"
   ]
  },
  {
   "cell_type": "code",
   "execution_count": 31,
   "metadata": {},
   "outputs": [],
   "source": [
    "# Create the time-frequency grid\n",
    "T = np.arange(0, N)\n",
    "J = np.arange(0, K_g)\n",
    "J, T = np.meshgrid(J, T)\n",
    "\n",
    "# Dictionaries of shape (N, K_g)\n",
    "gabor_cosine = np.cos(np.pi * (J+1/2) * (T+1/2) / K_g)\n",
    "gabor_sine = np.sin(np.pi * (J+1/2) * (T+1/2) / K_g)"
   ]
  },
  {
   "cell_type": "markdown",
   "metadata": {},
   "source": [
    "## Orthogonal Matching Pursuit"
   ]
  },
  {
   "cell_type": "code",
   "execution_count": 32,
   "metadata": {},
   "outputs": [],
   "source": [
    "def least_squares(y, D_c, D_s, theta_clip = None, theta_max = None):\n",
    "    \"\"\"\n",
    "    Solves the following least squares problem\n",
    "        min ||y - D_c * x_c - D_s * x_s||^2\n",
    "    \"\"\"\n",
    "    x = np.linalg.lstsq(D, y, rcond=None)[0]\n",
    "    return x"
   ]
  },
  {
   "cell_type": "code",
   "execution_count": null,
   "metadata": {},
   "outputs": [],
   "source": [
    "def OMP(y, M_r, D_c, D_s, K, eps, theta_clip = None, theta_max = None):\n",
    "    \"\"\" \n",
    "    Runs the Orthogonal Matching Pursuit algorithm, using Gabor Dictionaries\n",
    "\n",
    "    Inputs:\n",
    "    --------\n",
    "    y: np.array\n",
    "        Input signal of size N_r\n",
    "    M_r: np.array\n",
    "        Measurement matrix of size (N_r, N)\n",
    "    D_c: np.array\n",
    "        Dictionary for the cosine atoms of size (N, K_g)\n",
    "    D_s: np.array\n",
    "        Dictionary for the sine atoms of size (N, K_g)\n",
    "    K: int\n",
    "        Maximal number of atoms to select\n",
    "    eps: float\n",
    "        Stopping criterion\n",
    "    theta_clip: float\n",
    "        (Optional) Clipping value of the signal, used as an additional constraint in the least squares problem. If None, no clipping constraint is applied.\n",
    "    theta_max: float\n",
    "        (Optional) Maximum value of the signal, used as an additional constraint in the least squares problem. If None, no maximum constraint is applied.\n",
    "\n",
    "    Outputs:\n",
    "    --------\n",
    "    x: np.array\n",
    "        Estimated sparse signal\n",
    "    \"\"\"\n",
    "\n",
    "    # Intialization\n",
    "    N = D_c.shape[0]\n",
    "    K_g = D_c.shape[1]\n",
    "    N_r = M_r.shape[0]\n",
    "\n",
    "    ## Dictionaries\n",
    "    W_c = np.linalg.inv(np.linalg.norm(M_r @ D_c, axis=0))\n",
    "    W_s = np.linalg.inv(np.linalg.norm(M_r @ D_s, axis=0))\n",
    "    d_c_norm = M_r @ D_c @ W_c\n",
    "    d_s_norm = M_r @ D_s @ W_s\n",
    "    d_cs_dot = np.diag(np.dot(d_c_norm.T, d_s_norm), k = 0)           # Array containing <d_j^c|d_j^s>, j = 0, ..., K_g-1\n",
    "\n",
    "    ## Residual and support\n",
    "    r = y\n",
    "    Omega = []\n",
    "\n",
    "    for k in range(K):\n",
    "\n",
    "        # Atom selection (TODO)\n",
    "        x_c = (np.dot(d_c_norm.T, r) - d_cs_dot * np.dot(d_s_norm.T, r)) / (1 - d_cs_dot**2)\n",
    "        x_s = (np.dot(d_s_norm.T, r) - d_cs_dot * np.dot(d_c_norm.T, r)) / (1 - d_cs_dot**2)\n",
    "        proj = np.zeros(d_c_norm.shape[0])\n",
    "        for j in range(d_c_norm.shape[0]):\n",
    "            proj[j] = np.linalg.norm(r - x_c[j] * d_c_norm[j,:] - x_s[j] * d_s_norm[j,:])**2\n",
    "        i = np.argmax(np.abs(proj))\n",
    "\n",
    "        # Update support and residual (TODO)\n",
    "        Omega.append(i)\n",
    "        x_hat = least_squares(y, d_c_norm[Omega,:], d_s_norm[Omega,:], theta_clip, theta_max)\n",
    "        r = y - np.dot(d_c_norm[Omega,:], x_hat) - np.dot(d_s_norm[Omega,:], x_hat)\n",
    "\n",
    "        # Stopping criterion\n",
    "        if np.linalg.norm(r) < eps:\n",
    "            break\n",
    "    \n",
    "    # Output (TODO)\n",
    "    x = np.zeros(N)\n",
    "    return x"
   ]
  },
  {
   "cell_type": "markdown",
   "metadata": {},
   "source": [
    "## Data"
   ]
  },
  {
   "cell_type": "markdown",
   "metadata": {},
   "source": [
    "### Dataset"
   ]
  },
  {
   "cell_type": "markdown",
   "metadata": {},
   "source": [
    "### Exploratory Data Analysis"
   ]
  },
  {
   "cell_type": "markdown",
   "metadata": {},
   "source": [
    "## Experiments"
   ]
  }
 ],
 "metadata": {
  "kernelspec": {
   "display_name": "Python 3",
   "language": "python",
   "name": "python3"
  },
  "language_info": {
   "codemirror_mode": {
    "name": "ipython",
    "version": 3
   },
   "file_extension": ".py",
   "mimetype": "text/x-python",
   "name": "python",
   "nbconvert_exporter": "python",
   "pygments_lexer": "ipython3",
   "version": "3.10.7"
  }
 },
 "nbformat": 4,
 "nbformat_minor": 2
}
