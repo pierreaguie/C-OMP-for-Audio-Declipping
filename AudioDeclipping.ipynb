{
 "cells": [
  {
   "cell_type": "markdown",
   "metadata": {},
   "source": [
    "# Constrained Orthogonal Matching Pursuit for Audio Declipping"
   ]
  },
  {
   "cell_type": "code",
   "execution_count": 168,
   "metadata": {},
   "outputs": [],
   "source": [
    "import numpy as np\n",
    "import matplotlib.pyplot as plt\n",
    "from tqdm import tqdm"
   ]
  },
  {
   "cell_type": "markdown",
   "metadata": {},
   "source": [
    "## Signal Clipping"
   ]
  },
  {
   "cell_type": "code",
   "execution_count": 169,
   "metadata": {},
   "outputs": [],
   "source": [
    "def clip(s, theta_clip):\n",
    "    \"\"\" \n",
    "    Clips a signal s to the range [-theta_clip, theta_clip]\n",
    "    \"\"\"\n",
    "    return np.clip(s, -theta_clip, theta_clip)"
   ]
  },
  {
   "cell_type": "code",
   "execution_count": 170,
   "metadata": {},
   "outputs": [],
   "source": [
    "def get_theta_clip(y):\n",
    "    \"\"\" \n",
    "    Returns the clipping threshold for a clipped signal y\n",
    "    \"\"\"\n",
    "    return np.max(np.abs(y))"
   ]
  },
  {
   "cell_type": "code",
   "execution_count": 171,
   "metadata": {},
   "outputs": [],
   "source": [
    "def get_M_r(y, theta_clip : float = None):\n",
    "    \"\"\"\n",
    "    Returns the measurement matrix M_r for a clipped signal y\n",
    "    \"\"\"\n",
    "    N = y.shape[0]\n",
    "    M_r = np.eye(N)\n",
    "    theta_clip = theta_clip if theta_clip is not None else get_theta_clip(y) \n",
    "    I_r = np.abs(y) < theta_clip           \n",
    "    M_r = M_r[I_r, :]\n",
    "    return M_r"
   ]
  },
  {
   "cell_type": "code",
   "execution_count": 172,
   "metadata": {},
   "outputs": [],
   "source": [
    "def get_M_m_plus(y, theta_clip : float = None):\n",
    "    \"\"\"\n",
    "    Returns the matrix M_m_plus (which gives the indices at which the signal is clipped from above) for a clipped signal y\n",
    "    \"\"\"\n",
    "    N = y.shape[0]\n",
    "    M_m_plus = np.eye(N)\n",
    "    theta_clip = theta_clip if theta_clip is not None else get_theta_clip(y) \n",
    "    I_m_plus = y >= theta_clip           \n",
    "    M_m_plus = M_m_plus[I_m_plus, :]\n",
    "    return M_m_plus"
   ]
  },
  {
   "cell_type": "code",
   "execution_count": 174,
   "metadata": {},
   "outputs": [],
   "source": [
    "def get_M_m_minus(y, theta_clip : float = None):\n",
    "    \"\"\"\n",
    "    Returns the matrix M_m_minus (which gives the indices at which the signal is clipped from below) for a clipped signal y\n",
    "    \"\"\"\n",
    "    N = y.shape[0]\n",
    "    M_m_minus = np.eye(N)\n",
    "    theta_clip = theta_clip if theta_clip is not None else get_theta_clip(y) \n",
    "    I_m_minus = y <= -theta_clip           \n",
    "    M_m_minus = M_m_minus[I_m_minus, :]\n",
    "    return M_m_minus"
   ]
  },
  {
   "cell_type": "markdown",
   "metadata": {},
   "source": [
    "## Gabor Dictionary"
   ]
  },
  {
   "cell_type": "code",
   "execution_count": 160,
   "metadata": {},
   "outputs": [],
   "source": [
    "params = {\n",
    "    \"sampling_rate\": 16000,\n",
    "    \"frame_length\": 1024,\n",
    "    \"frame_overlap\": 768\n",
    "}\n",
    "\n",
    "# Number of atoms per dictionary\n",
    "K_g = params[\"frame_length\"]//2\n",
    "# Length of the signal\n",
    "N = params[\"frame_length\"]"
   ]
  },
  {
   "cell_type": "code",
   "execution_count": 161,
   "metadata": {},
   "outputs": [],
   "source": [
    "# Create the time-frequency grid\n",
    "T = np.arange(0, N)\n",
    "J = np.arange(0, K_g)\n",
    "J, T = np.meshgrid(J, T)\n",
    "\n",
    "# Dictionaries of shape (N, K_g), 2* K_g atoms in total\n",
    "gabor_cosine = np.cos(np.pi * (J+1/2) * (T+1/2) / K_g)\n",
    "gabor_sine = np.sin(np.pi * (J+1/2) * (T+1/2) / K_g)"
   ]
  },
  {
   "cell_type": "code",
   "execution_count": 162,
   "metadata": {},
   "outputs": [
    {
     "data": {
      "text/plain": [
       "((1024, 512), (1024, 512))"
      ]
     },
     "execution_count": 162,
     "metadata": {},
     "output_type": "execute_result"
    }
   ],
   "source": [
    "gabor_cosine.shape, gabor_sine.shape"
   ]
  },
  {
   "cell_type": "markdown",
   "metadata": {},
   "source": [
    "## Orthogonal Matching Pursuit"
   ]
  },
  {
   "cell_type": "code",
   "execution_count": null,
   "metadata": {},
   "outputs": [],
   "source": [
    "def least_squares(y, D_c, D_s, theta_clip = None, theta_max = None, lambda_reg : float = 0):\n",
    "    \"\"\"\n",
    "    Solves the following least squares problem\n",
    "        min_{x_c, x_s} ||y - D_c * x_c - D_s * x_s||^2 + lambda * ||x_c||^2 + lambda * ||x_s||^2     s.t.     ...\n",
    "    \"\"\"\n",
    "    D = np.concatenate((D_c, D_s), axis=1)\n",
    "    x = np.linalg.lstsq(D, y, rcond=None)[0]\n",
    "    x_c = x[:D_c.shape[1]]\n",
    "    x_s = x[D_c.shape[1]:]\n",
    "\n",
    "    ## TODO: Implement optimization in the case with linear constraints\n",
    "\n",
    "    return x_c, x_s"
   ]
  },
  {
   "cell_type": "code",
   "execution_count": null,
   "metadata": {},
   "outputs": [],
   "source": [
    "def OMP(y, M_r, K, eps, D_c = gabor_cosine, D_s = gabor_sine, theta_clip = None, theta_max = None):\n",
    "    \"\"\" \n",
    "    Runs the Orthogonal Matching Pursuit algorithm, using Gabor Dictionaries.\n",
    "\n",
    "    Inputs:\n",
    "    --------\n",
    "    y: np.array\n",
    "        Input signal of size N\n",
    "    M_r: np.array\n",
    "        Measurement matrix of size (N_r, N)\n",
    "    D_c: np.array\n",
    "        Dictionary for the cosine atoms of size (N, K_g)\n",
    "    D_s: np.array\n",
    "        Dictionary for the sine atoms of size (N, K_g)\n",
    "    K: int\n",
    "        Maximal number of atoms to select\n",
    "    eps: float\n",
    "        Stopping criterion\n",
    "    theta_clip: float\n",
    "        (Optional) Clipping value of the signal, used as an additional constraint in the least squares problem. If None, no clipping constraint is applied.\n",
    "    theta_max: float\n",
    "        (Optional) Maximum value of the signal, used as an additional constraint in the least squares problem. If None, no maximum constraint is applied.\n",
    "\n",
    "    Outputs:\n",
    "    --------\n",
    "    y_reconstructed: np.array_str\n",
    "        Reconstruciton of the original signal y\n",
    "    x_c: np.array\n",
    "        Sparse activations of the cosine atoms \n",
    "    x_s: np.array\n",
    "        Sparse activations of the sine atoms\n",
    "    residual_norms : list\n",
    "        List of the squared norms of the residuals at each iteration\n",
    "    \"\"\"\n",
    "\n",
    "    K_g = D_c.shape[1]\n",
    "\n",
    "    # Reliable samples of the signal\n",
    "    y_r = M_r @ y                                                          # Of shape (N_r)\n",
    "\n",
    "    # Dictionaries\n",
    "    W_c = np.diag(1 / np.linalg.norm(M_r @ D_c, axis=0))        # W_j,j = 1/||M_r * d_j||, j = 0, ..., K_g-1, of shape (K_g, K_g)\n",
    "    W_s = np.diag(1 / np.linalg.norm(M_r @ D_s, axis=0))\n",
    "    d_c_norm = M_r @ D_c @ W_c                                             # Of shape (N_r, K_g)\n",
    "    d_s_norm = M_r @ D_s @ W_s\n",
    "\n",
    "    # TODO: Cette ligne est teubé, faut la changer\n",
    "    d_cs_dot = np.diag(np.dot(d_c_norm.T, d_s_norm), k = 0)                # Array containing <d_norm_j^c|d_norm_j^s>, j = 0, ..., K_g-1, of shape (K_g)\n",
    "\n",
    "    # Residual and support\n",
    "    r = y_r\n",
    "    Omega = []\n",
    "    residual_norms = [np.linalg.norm(y_r)**2]\n",
    "\n",
    "\n",
    "    for k in tqdm(range(K)):\n",
    "\n",
    "        # Atom selection\n",
    "        x_c = (np.dot(r, d_c_norm) - d_cs_dot * np.dot(r, d_s_norm)) / (1 - d_cs_dot**2)\n",
    "        x_s = (np.dot(r, d_s_norm) - d_cs_dot * np.dot(r, d_c_norm)) / (1 - d_cs_dot**2)\n",
    "        proj = np.zeros(K_g)\n",
    "        for j in range(K_g):\n",
    "            proj[j] = np.linalg.norm(r - x_c[j] * d_c_norm[:,j] - x_s[j] * d_s_norm[:,j])**2\n",
    "        i = np.argmin(np.abs(proj))\n",
    "\n",
    "        # Update support and residual\n",
    "        Omega.append(i)\n",
    "        x_c2, x_s2 = least_squares(y_r, d_c_norm[:,Omega], d_s_norm[:,Omega], theta_clip, theta_max)\n",
    "        x_c, x_s = np.zeros(K_g), np.zeros(K_g)\n",
    "        x_c[Omega] = x_c2\n",
    "        x_s[Omega] = x_s2\n",
    "\n",
    "        r = y_r - np.dot(d_c_norm[:,Omega], x_c2) - np.dot(d_s_norm[:,Omega], x_s2)\n",
    "        r_norm = np.linalg.norm(r)**2\n",
    "        residual_norms.append(r_norm)\n",
    "\n",
    "        # Stopping criterion\n",
    "        if r_norm < eps:\n",
    "            break\n",
    "    \n",
    "    # Output\n",
    "    x_c = W_c @ x_c\n",
    "    x_s = W_s @ x_s\n",
    "    y_reconstructed = D_c @ x_c + D_s @ x_s\n",
    "    return y_reconstructed, x_c, x_s, residual_norms"
   ]
  },
  {
   "cell_type": "code",
   "execution_count": 164,
   "metadata": {},
   "outputs": [],
   "source": [
    "## TODO : Function to do OMP on multiple frames, and then overlap them\n",
    "def inpainting(y, frame_length : int = 1024, frame_overlap : int = 768, K : int = 50, eps : float = 1e-6, D_c = gabor_cosine, D_s = gabor_sine, theta_clip = None, theta_max = None):\n",
    "    pass"
   ]
  },
  {
   "cell_type": "markdown",
   "metadata": {},
   "source": [
    "## Data"
   ]
  },
  {
   "cell_type": "markdown",
   "metadata": {},
   "source": [
    "### Dataset"
   ]
  },
  {
   "cell_type": "code",
   "execution_count": 157,
   "metadata": {},
   "outputs": [],
   "source": [
    "# Synthetic data generation\n",
    "def generate_synthetic_dataset(M, N, K, theta_clip : float = .8, D_c = gabor_cosine, D_s = gabor_sine, sigma : float = 0.1):\n",
    "    \"\"\"\n",
    "    Generates M waveforms of length N. Each waveform is a sum of K Gabor atoms and some noise. Both the original signal and the signal clipped at theta_clip are returned, along with the grounD-truth vector x.\n",
    "    \"\"\"\n",
    "    K_g = D_c.shape[1]\n",
    "\n",
    "    X = np.zeros((M, 2*K_g))\n",
    "    Y = np.zeros((M, N))\n",
    "    Y_clipped = np.zeros((M, N))\n",
    "\n",
    "    for i in range(M):\n",
    "        y = np.zeros(N)\n",
    "        for k in range(K):\n",
    "            j = np.random.randint(0, K_g)\n",
    "            a = .2 * np.random.randn()\n",
    "            b = .2 * np.random.randn()\n",
    "            y += a * D_c[:,j] + b * D_s[:,j]\n",
    "            X[i, j] += a\n",
    "            X[i, K_g+j] += b\n",
    "        Y[i] = y + sigma * np.random.randn(N)\n",
    "        Y_clipped[i] = clip(Y[i], theta_clip)\n",
    "    \n",
    "    return X, Y, Y_clipped\n"
   ]
  },
  {
   "cell_type": "code",
   "execution_count": 175,
   "metadata": {},
   "outputs": [],
   "source": [
    "## TODO: find some real data, and add a function to load some real data"
   ]
  },
  {
   "cell_type": "markdown",
   "metadata": {},
   "source": [
    "### Exploratory Data Analysis"
   ]
  },
  {
   "cell_type": "markdown",
   "metadata": {},
   "source": [
    "## Experiments"
   ]
  }
 ],
 "metadata": {
  "kernelspec": {
   "display_name": "Python 3",
   "language": "python",
   "name": "python3"
  },
  "language_info": {
   "codemirror_mode": {
    "name": "ipython",
    "version": 3
   },
   "file_extension": ".py",
   "mimetype": "text/x-python",
   "name": "python",
   "nbconvert_exporter": "python",
   "pygments_lexer": "ipython3",
   "version": "3.10.7"
  }
 },
 "nbformat": 4,
 "nbformat_minor": 2
}
